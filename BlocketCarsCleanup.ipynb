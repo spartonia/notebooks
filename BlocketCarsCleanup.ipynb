{
 "cells": [
  {
   "cell_type": "code",
   "execution_count": 1,
   "metadata": {
    "collapsed": true
   },
   "outputs": [],
   "source": [
    "import pymongo\n",
    "from pymongo import MongoClient\n",
    "import re\n",
    "\n",
    "client = MongoClient('localhost', 27017)\n",
    "\n",
    "db = client.Blocket\n",
    "\n",
    "db.collection_names()\n",
    "\n",
    "# db.cars.copyTo('carsClean')\n",
    "cars = db.carsClean"
   ]
  },
  {
   "cell_type": "code",
   "execution_count": 2,
   "metadata": {
    "collapsed": false
   },
   "outputs": [
    {
     "data": {
      "text/plain": [
       "{u'_id': ObjectId('574521095c72dbf51d28efdd'),\n",
       " u'brand': u'Ford',\n",
       " u'city': u'Lund',\n",
       " u'color': u'Gr\\xe5',\n",
       " u'county': u'Lund',\n",
       " u'date_announced': u'2016-05-24 23:42:00',\n",
       " u'date_collected': u'2016-05-25 05:50:33.389419',\n",
       " u'description': u'SVENSKS\\xc5LD FORD MONDEO 2009, en \\xe4gare, s\\xe4ljes pga.\\nbyte till tj\\xe4nstebil. Bensin/etanol, elstol\\nf\\xf6rare, fullst\\xe4mplad servicebok, AUX-ing\\xe5ng,\\nABS-bromsar, ACC/klimatanl\\xe4ggning, airbag f\\xf6rare &\\npassagerare, antisladdsystem, CD-stereo, elhissar\\nfram och bak, elspeglar, farth\\xe5llare, fj\\xe4rrstyrt\\nc-l\\xe5s, f\\xe4rddator, multifunktionsratt,\\nservostyrning, sidoairbag, stolv\\xe4rme fram,\\nyttertemperaturm\\xe4tareNya sommard\\xe4ck och vinterd\\xe4ck medf\\xf6ljer. Ny\\nvindruta vintern 2015/2016. Lastgaller ing\\xe5r.',\n",
       " u'emissions': None,\n",
       " u'fuel': u'Milj\\xf6br\\xe4nsle/Hybrid',\n",
       " u'gearbox': u'Manuell',\n",
       " u'horse_power': 145,\n",
       " u'in_traffic': u'2009-04-24',\n",
       " u'is_available': True,\n",
       " u'mileage': u'13000-13499',\n",
       " u'model': u'BA7    MONDEO  MONDEO',\n",
       " u'model_year': u'2009',\n",
       " u'price': 60000,\n",
       " u'price_old': 70000,\n",
       " u'rear_wheels': u'Tv\\xe5hjulsdriven',\n",
       " u'title': u'Ford Mondeo 2.0 Flexifuel Kombi -09',\n",
       " u'type': u'Kombi',\n",
       " u'url': u'https://www.blocket.se/lund/Ford_Mondeo_2_0_Flexifuel_Kombi_66778552.htm',\n",
       " u'year': u'2008'}"
      ]
     },
     "execution_count": 2,
     "metadata": {},
     "output_type": "execute_result"
    }
   ],
   "source": [
    "cars.find_one()"
   ]
  },
  {
   "cell_type": "code",
   "execution_count": 3,
   "metadata": {
    "collapsed": false
   },
   "outputs": [
    {
     "data": {
      "text/plain": [
       "[u'Ford',\n",
       " u'Volkswagen',\n",
       " u'Volvo',\n",
       " u'Toyota',\n",
       " u'Peugeot',\n",
       " u'Nissan',\n",
       " u'Audi',\n",
       " u'Mercedes-Benz',\n",
       " u'Opel',\n",
       " u'Honda',\n",
       " u'Ssang Yong',\n",
       " u'Hyundai',\n",
       " u'BMW',\n",
       " u'Kia',\n",
       " u'Mini',\n",
       " u'Saab',\n",
       " u'Renault',\n",
       " u'Land Rover',\n",
       " u'Skoda',\n",
       " u'Mitsubishi',\n",
       " u'Chevrolet',\n",
       " u'Mazda',\n",
       " u'Fiat',\n",
       " u'Jeep',\n",
       " u'Citro\\xebn',\n",
       " u'Dacia',\n",
       " u'Lexus',\n",
       " u'SEAT',\n",
       " u'Subaru',\n",
       " u'Rover/BMC',\n",
       " u'Pontiac',\n",
       " u'Jaguar',\n",
       " u'Dodge',\n",
       " u'Cadillac',\n",
       " u'Alfa Romeo',\n",
       " u'Chrysler',\n",
       " u'\\xd6vriga',\n",
       " u'Porsche',\n",
       " u'Suzuki',\n",
       " u'Smart',\n",
       " u'Lincoln',\n",
       " u'Maserati']"
      ]
     },
     "execution_count": 3,
     "metadata": {},
     "output_type": "execute_result"
    }
   ],
   "source": [
    "cars.distinct('brand')"
   ]
  },
  {
   "cell_type": "code",
   "execution_count": 4,
   "metadata": {
    "collapsed": false
   },
   "outputs": [
    {
     "data": {
      "text/plain": [
       "0"
      ]
     },
     "execution_count": 4,
     "metadata": {},
     "output_type": "execute_result"
    }
   ],
   "source": [
    "# remove None\n",
    "# result = cars.delete_many({'brand': None})\n",
    "# result.deleted_count\n",
    "cars.find({'brand': None}).count()"
   ]
  },
  {
   "cell_type": "code",
   "execution_count": 5,
   "metadata": {
    "collapsed": false
   },
   "outputs": [],
   "source": [
    "# cars.find().count()"
   ]
  },
  {
   "cell_type": "code",
   "execution_count": 6,
   "metadata": {
    "collapsed": false
   },
   "outputs": [
    {
     "data": {
      "text/plain": [
       "[u'Manuell', u'Automat']"
      ]
     },
     "execution_count": 6,
     "metadata": {},
     "output_type": "execute_result"
    }
   ],
   "source": [
    "cars.distinct('gearbox')"
   ]
  },
  {
   "cell_type": "code",
   "execution_count": 7,
   "metadata": {
    "collapsed": false
   },
   "outputs": [
    {
     "data": {
      "text/plain": [
       "0"
      ]
     },
     "execution_count": 7,
     "metadata": {},
     "output_type": "execute_result"
    }
   ],
   "source": [
    "cars.find({'gearbox': '-'}).count()"
   ]
  },
  {
   "cell_type": "code",
   "execution_count": 8,
   "metadata": {
    "collapsed": false
   },
   "outputs": [
    {
     "data": {
      "text/plain": [
       "0"
      ]
     },
     "execution_count": 8,
     "metadata": {},
     "output_type": "execute_result"
    }
   ],
   "source": [
    "result = cars.delete_many({'gearbox': '-'})\n",
    "result.deleted_count"
   ]
  },
  {
   "cell_type": "code",
   "execution_count": 9,
   "metadata": {
    "collapsed": false
   },
   "outputs": [
    {
     "data": {
      "text/plain": [
       "[u'Milj\\xf6br\\xe4nsle/Hybrid', u'Diesel', u'Bensin']"
      ]
     },
     "execution_count": 9,
     "metadata": {},
     "output_type": "execute_result"
    }
   ],
   "source": [
    "cars.distinct('fuel')"
   ]
  },
  {
   "cell_type": "code",
   "execution_count": 10,
   "metadata": {
    "collapsed": false
   },
   "outputs": [
    {
     "data": {
      "text/plain": [
       "0"
      ]
     },
     "execution_count": 10,
     "metadata": {},
     "output_type": "execute_result"
    }
   ],
   "source": [
    "cars.find({'fuel': u'-'}).count()"
   ]
  },
  {
   "cell_type": "code",
   "execution_count": 11,
   "metadata": {
    "collapsed": false
   },
   "outputs": [],
   "source": [
    "# cars.distinct('mileage')"
   ]
  },
  {
   "cell_type": "code",
   "execution_count": 12,
   "metadata": {
    "collapsed": false
   },
   "outputs": [],
   "source": [
    "pattern = re.compile(r'-')\n",
    "mileage_cats_list = cars.find({'mileage': {'$regex': pattern}}).distinct('mileage')"
   ]
  },
  {
   "cell_type": "code",
   "execution_count": 13,
   "metadata": {
    "collapsed": false
   },
   "outputs": [
    {
     "data": {
      "text/plain": [
       "64"
      ]
     },
     "execution_count": 13,
     "metadata": {},
     "output_type": "execute_result"
    }
   ],
   "source": [
    "len(mileage_cats_list)"
   ]
  },
  {
   "cell_type": "code",
   "execution_count": 14,
   "metadata": {
    "collapsed": false
   },
   "outputs": [],
   "source": [
    "mileage_cats = map(\n",
    "        lambda x: (x.split('-')),\n",
    "        mileage_cats_list\n",
    ")\n",
    "mileage_cats = filter(None, map(lambda lst: filter(None, lst), mileage_cats))\n",
    "    \n",
    "mileage_cats = map(\n",
    "    lambda(x, y): (int(x.replace(' ', '')), int(y.replace(' ', ''))),\n",
    "    mileage_cats\n",
    ")"
   ]
  },
  {
   "cell_type": "code",
   "execution_count": 15,
   "metadata": {
    "collapsed": false
   },
   "outputs": [],
   "source": [
    "mileage_cats_sorted = sorted(mileage_cats, key=lambda (x, y): x)"
   ]
  },
  {
   "cell_type": "code",
   "execution_count": 16,
   "metadata": {
    "collapsed": false
   },
   "outputs": [],
   "source": [
    "mileage_range_to_cat_dict = {(low, high): \"%s-%s\" %(low, high)  for (low, high) in mileage_cats_sorted}"
   ]
  },
  {
   "cell_type": "code",
   "execution_count": 17,
   "metadata": {
    "collapsed": false
   },
   "outputs": [
    {
     "data": {
      "text/plain": [
       "0"
      ]
     },
     "execution_count": 17,
     "metadata": {},
     "output_type": "execute_result"
    }
   ],
   "source": [
    "cars.find({'mileage': u'Mer\\xe4n50000'}).count()"
   ]
  },
  {
   "cell_type": "code",
   "execution_count": 19,
   "metadata": {
    "collapsed": false
   },
   "outputs": [],
   "source": [
    "# car = cars.find_one()\n",
    "# mil =  int(car['mileage'].split('-')[0].replace(' ', ''))\n",
    "# for rng in mileage_range_to_cat_dict.keys():\n",
    "#     if rng[0] <= mil < rng[1]:\n",
    "#         print rng, mil,  mileage_range_to_cat_dict[rng], car['mileage']\n",
    "def clean_mileage():\n",
    "    i = 0 \n",
    "    for car in cars.find():\n",
    "        try:\n",
    "            mil =  int(car['mileage'].split('-')[0].replace(' ', ''))\n",
    "        except:\n",
    "            cars.delete_one({'_id': car['_id']})\n",
    "        else:\n",
    "            cleaned = False\n",
    "            for rng in mileage_range_to_cat_dict.keys():\n",
    "                if rng[0] <= mil < rng[1]:\n",
    "                    cars.update_one(\n",
    "                        {'_id': car['_id'] },\n",
    "                        {\n",
    "                          '$set': {\n",
    "                            'mileage': mileage_range_to_cat_dict[rng]\n",
    "                          }\n",
    "                        }, upsert=False)\n",
    "                    cleaned = True\n",
    "                    break\n",
    "            if not cleaned:   \n",
    "                cars.delete_one({'_id': car['_id']})\n",
    "        "
   ]
  },
  {
   "cell_type": "code",
   "execution_count": 135,
   "metadata": {
    "collapsed": false
   },
   "outputs": [],
   "source": [
    "# for rng in mileage_range_to_cat_dict.keys():\n",
    "#     print mileage_range_to_cat_dict[rng]"
   ]
  },
  {
   "cell_type": "code",
   "execution_count": 20,
   "metadata": {
    "collapsed": false,
    "scrolled": true
   },
   "outputs": [],
   "source": [
    "clean_mileage()"
   ]
  },
  {
   "cell_type": "code",
   "execution_count": 21,
   "metadata": {
    "collapsed": false
   },
   "outputs": [
    {
     "data": {
      "text/plain": [
       "{u'_id': ObjectId('574521095c72dbf51d28efdd'),\n",
       " u'brand': u'Ford',\n",
       " u'city': u'Lund',\n",
       " u'color': u'Gr\\xe5',\n",
       " u'county': u'Lund',\n",
       " u'date_announced': u'2016-05-24 23:42:00',\n",
       " u'date_collected': u'2016-05-25 05:50:33.389419',\n",
       " u'description': u'SVENSKS\\xc5LD FORD MONDEO 2009, en \\xe4gare, s\\xe4ljes pga.\\nbyte till tj\\xe4nstebil. Bensin/etanol, elstol\\nf\\xf6rare, fullst\\xe4mplad servicebok, AUX-ing\\xe5ng,\\nABS-bromsar, ACC/klimatanl\\xe4ggning, airbag f\\xf6rare &\\npassagerare, antisladdsystem, CD-stereo, elhissar\\nfram och bak, elspeglar, farth\\xe5llare, fj\\xe4rrstyrt\\nc-l\\xe5s, f\\xe4rddator, multifunktionsratt,\\nservostyrning, sidoairbag, stolv\\xe4rme fram,\\nyttertemperaturm\\xe4tareNya sommard\\xe4ck och vinterd\\xe4ck medf\\xf6ljer. Ny\\nvindruta vintern 2015/2016. Lastgaller ing\\xe5r.',\n",
       " u'emissions': None,\n",
       " u'fuel': u'Milj\\xf6br\\xe4nsle/Hybrid',\n",
       " u'gearbox': u'Manuell',\n",
       " u'horse_power': 145,\n",
       " u'in_traffic': u'2009-04-24',\n",
       " u'is_available': True,\n",
       " u'mileage': u'13000-13499',\n",
       " u'model': u'BA7    MONDEO  MONDEO',\n",
       " u'model_year': u'2009',\n",
       " u'price': 60000,\n",
       " u'price_old': 70000,\n",
       " u'rear_wheels': u'Tv\\xe5hjulsdriven',\n",
       " u'title': u'Ford Mondeo 2.0 Flexifuel Kombi -09',\n",
       " u'type': u'Kombi',\n",
       " u'url': u'https://www.blocket.se/lund/Ford_Mondeo_2_0_Flexifuel_Kombi_66778552.htm',\n",
       " u'year': u'2008'}"
      ]
     },
     "execution_count": 21,
     "metadata": {},
     "output_type": "execute_result"
    }
   ],
   "source": [
    "cars.find_one()"
   ]
  },
  {
   "cell_type": "code",
   "execution_count": 22,
   "metadata": {
    "collapsed": false
   },
   "outputs": [
    {
     "data": {
      "text/plain": [
       "(64, 17586)"
      ]
     },
     "execution_count": 22,
     "metadata": {},
     "output_type": "execute_result"
    }
   ],
   "source": [
    "len(cars.distinct('mileage')), cars.count()"
   ]
  },
  {
   "cell_type": "code",
   "execution_count": 23,
   "metadata": {
    "collapsed": false
   },
   "outputs": [],
   "source": [
    "hp = sorted(cars.distinct('horse_power'))"
   ]
  },
  {
   "cell_type": "code",
   "execution_count": 24,
   "metadata": {
    "collapsed": false
   },
   "outputs": [
    {
     "data": {
      "text/plain": [
       "<pymongo.results.DeleteResult at 0x7f416832dc80>"
      ]
     },
     "execution_count": 24,
     "metadata": {},
     "output_type": "execute_result"
    }
   ],
   "source": [
    "cars.delete_many({'horse_power': None})"
   ]
  },
  {
   "cell_type": "code",
   "execution_count": 25,
   "metadata": {
    "collapsed": false
   },
   "outputs": [],
   "source": [
    "# cars.find({'horse_power': None}).count()"
   ]
  },
  {
   "cell_type": "code",
   "execution_count": 26,
   "metadata": {
    "collapsed": false
   },
   "outputs": [
    {
     "data": {
      "text/plain": [
       "{u'_id': ObjectId('574521095c72dbf51d28efdd'),\n",
       " u'brand': u'Ford',\n",
       " u'city': u'Lund',\n",
       " u'color': u'Gr\\xe5',\n",
       " u'county': u'Lund',\n",
       " u'date_announced': u'2016-05-24 23:42:00',\n",
       " u'date_collected': u'2016-05-25 05:50:33.389419',\n",
       " u'description': u'SVENSKS\\xc5LD FORD MONDEO 2009, en \\xe4gare, s\\xe4ljes pga.\\nbyte till tj\\xe4nstebil. Bensin/etanol, elstol\\nf\\xf6rare, fullst\\xe4mplad servicebok, AUX-ing\\xe5ng,\\nABS-bromsar, ACC/klimatanl\\xe4ggning, airbag f\\xf6rare &\\npassagerare, antisladdsystem, CD-stereo, elhissar\\nfram och bak, elspeglar, farth\\xe5llare, fj\\xe4rrstyrt\\nc-l\\xe5s, f\\xe4rddator, multifunktionsratt,\\nservostyrning, sidoairbag, stolv\\xe4rme fram,\\nyttertemperaturm\\xe4tareNya sommard\\xe4ck och vinterd\\xe4ck medf\\xf6ljer. Ny\\nvindruta vintern 2015/2016. Lastgaller ing\\xe5r.',\n",
       " u'emissions': None,\n",
       " u'fuel': u'Milj\\xf6br\\xe4nsle/Hybrid',\n",
       " u'gearbox': u'Manuell',\n",
       " u'horse_power': 145,\n",
       " u'in_traffic': u'2009-04-24',\n",
       " u'is_available': True,\n",
       " u'mileage': u'13000-13499',\n",
       " u'model': u'BA7    MONDEO  MONDEO',\n",
       " u'model_year': u'2009',\n",
       " u'price': 60000,\n",
       " u'price_old': 70000,\n",
       " u'rear_wheels': u'Tv\\xe5hjulsdriven',\n",
       " u'title': u'Ford Mondeo 2.0 Flexifuel Kombi -09',\n",
       " u'type': u'Kombi',\n",
       " u'url': u'https://www.blocket.se/lund/Ford_Mondeo_2_0_Flexifuel_Kombi_66778552.htm',\n",
       " u'year': u'2008'}"
      ]
     },
     "execution_count": 26,
     "metadata": {},
     "output_type": "execute_result"
    }
   ],
   "source": [
    "cars.find_one()"
   ]
  },
  {
   "cell_type": "code",
   "execution_count": 27,
   "metadata": {
    "collapsed": true
   },
   "outputs": [],
   "source": [
    "import pandas as pd"
   ]
  },
  {
   "cell_type": "code",
   "execution_count": 28,
   "metadata": {
    "collapsed": true
   },
   "outputs": [],
   "source": [
    "df = pd.DataFrame(list(cars.find()))"
   ]
  },
  {
   "cell_type": "code",
   "execution_count": 29,
   "metadata": {
    "collapsed": false
   },
   "outputs": [
    {
     "data": {
      "text/plain": [
       "array([u'Lund', u'Uppsala', u'Skaraborg', u'\\xd6rebro', u'Malm\\xf6',\n",
       "       u'G\\xf6teborg', u'Stockholm', u'V\\xe4sterbotten', u'\\xc4lvsborg',\n",
       "       u'V\\xe4stmanland', u'Kristianstad', u'J\\xe4mtland', u'Halland',\n",
       "       u'G\\xe4vleborg', u'Kalmar', u'Dalarna', u'H\\xe4ssleholm',\n",
       "       u'Blekinge', u'Helsingborg', u'V\\xe4rmland', u'\\xd6sterg\\xf6tland',\n",
       "       u'J\\xf6nk\\xf6ping', u'V\\xe4sternorrland', u'Kronoberg',\n",
       "       u'Simrishamn', u'Osby', u'S\\xf6dermanland', u'H\\xf6rby',\n",
       "       u'Lule\\xe5', u'Pite\\xe5', u'Gotland', u'\\xc4ngelholm',\n",
       "       u'Landskrona', u'Trelleborg', u'B\\xe5stad', u'Klippan',\n",
       "       u'H\\xf6\\xf6r', u'Arvidsjaur', u'Kalix', u'Ystad', u'Boden',\n",
       "       u'\\xd6verkalix', u'Kiruna', u'G\\xe4llivare', u'Esl\\xf6v',\n",
       "       u'\\xd6vertorne\\xe5', u'Pajala', u'Haparanda', u'Jokkmokk',\n",
       "       u'\\xc4lvsbyn', u'Arjeplog'], dtype=object)"
      ]
     },
     "execution_count": 29,
     "metadata": {},
     "output_type": "execute_result"
    }
   ],
   "source": [
    "df.county.unique()"
   ]
  },
  {
   "cell_type": "code",
   "execution_count": 32,
   "metadata": {
    "collapsed": false
   },
   "outputs": [],
   "source": [
    "df.to_csv('blocket_cars.csv', encoding='utf-8', index_label=False)"
   ]
  },
  {
   "cell_type": "code",
   "execution_count": null,
   "metadata": {
    "collapsed": true
   },
   "outputs": [],
   "source": []
  }
 ],
 "metadata": {
  "kernelspec": {
   "display_name": "Python 2",
   "language": "python",
   "name": "python2"
  },
  "language_info": {
   "codemirror_mode": {
    "name": "ipython",
    "version": 2
   },
   "file_extension": ".py",
   "mimetype": "text/x-python",
   "name": "python",
   "nbconvert_exporter": "python",
   "pygments_lexer": "ipython2",
   "version": "2.7.6"
  }
 },
 "nbformat": 4,
 "nbformat_minor": 0
}
