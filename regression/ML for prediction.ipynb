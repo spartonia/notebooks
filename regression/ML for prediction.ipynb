{
 "cells": [
  {
   "cell_type": "markdown",
   "metadata": {},
   "source": [
    "## Importing Data\n",
    "\n",
    "Data is being loaded from Notepad"
   ]
  },
  {
   "cell_type": "code",
   "execution_count": 74,
   "metadata": {
    "collapsed": true
   },
   "outputs": [],
   "source": [
    "import pandas as pd\n",
    "df = pd.read_csv('codetest_train.txt', header = 0, sep ='\\t')"
   ]
  },
  {
   "cell_type": "code",
   "execution_count": 75,
   "metadata": {
    "collapsed": false
   },
   "outputs": [
    {
     "data": {
      "text/html": [
       "<div>\n",
       "<table border=\"1\" class=\"dataframe\">\n",
       "  <thead>\n",
       "    <tr style=\"text-align: right;\">\n",
       "      <th></th>\n",
       "      <th>target</th>\n",
       "      <th>f_0</th>\n",
       "      <th>f_1</th>\n",
       "      <th>f_2</th>\n",
       "      <th>f_3</th>\n",
       "      <th>f_4</th>\n",
       "      <th>f_5</th>\n",
       "      <th>f_6</th>\n",
       "      <th>f_7</th>\n",
       "      <th>f_8</th>\n",
       "      <th>...</th>\n",
       "      <th>f_244</th>\n",
       "      <th>f_245</th>\n",
       "      <th>f_246</th>\n",
       "      <th>f_247</th>\n",
       "      <th>f_248</th>\n",
       "      <th>f_249</th>\n",
       "      <th>f_250</th>\n",
       "      <th>f_251</th>\n",
       "      <th>f_252</th>\n",
       "      <th>f_253</th>\n",
       "    </tr>\n",
       "  </thead>\n",
       "  <tbody>\n",
       "    <tr>\n",
       "      <th>0</th>\n",
       "      <td>3.066056</td>\n",
       "      <td>-0.653</td>\n",
       "      <td>0.255</td>\n",
       "      <td>-0.615</td>\n",
       "      <td>-1.833</td>\n",
       "      <td>-0.736</td>\n",
       "      <td>NaN</td>\n",
       "      <td>1.115</td>\n",
       "      <td>-0.171</td>\n",
       "      <td>-0.351</td>\n",
       "      <td>...</td>\n",
       "      <td>-1.607</td>\n",
       "      <td>-1.400</td>\n",
       "      <td>-0.920</td>\n",
       "      <td>-0.198</td>\n",
       "      <td>-0.945</td>\n",
       "      <td>-0.573</td>\n",
       "      <td>0.170</td>\n",
       "      <td>-0.418</td>\n",
       "      <td>-1.244</td>\n",
       "      <td>-0.503</td>\n",
       "    </tr>\n",
       "    <tr>\n",
       "      <th>1</th>\n",
       "      <td>-1.910473</td>\n",
       "      <td>1.179</td>\n",
       "      <td>-0.093</td>\n",
       "      <td>-0.556</td>\n",
       "      <td>0.811</td>\n",
       "      <td>-0.468</td>\n",
       "      <td>-0.005</td>\n",
       "      <td>-0.116</td>\n",
       "      <td>-1.243</td>\n",
       "      <td>1.985</td>\n",
       "      <td>...</td>\n",
       "      <td>1.282</td>\n",
       "      <td>0.032</td>\n",
       "      <td>-0.061</td>\n",
       "      <td>NaN</td>\n",
       "      <td>-0.061</td>\n",
       "      <td>-0.302</td>\n",
       "      <td>1.281</td>\n",
       "      <td>-0.850</td>\n",
       "      <td>0.821</td>\n",
       "      <td>-0.260</td>\n",
       "    </tr>\n",
       "    <tr>\n",
       "      <th>2</th>\n",
       "      <td>7.830711</td>\n",
       "      <td>0.181</td>\n",
       "      <td>-0.778</td>\n",
       "      <td>-0.919</td>\n",
       "      <td>0.113</td>\n",
       "      <td>0.887</td>\n",
       "      <td>-0.762</td>\n",
       "      <td>1.872</td>\n",
       "      <td>-1.709</td>\n",
       "      <td>0.135</td>\n",
       "      <td>...</td>\n",
       "      <td>-0.237</td>\n",
       "      <td>-0.660</td>\n",
       "      <td>1.073</td>\n",
       "      <td>-0.193</td>\n",
       "      <td>0.570</td>\n",
       "      <td>-0.267</td>\n",
       "      <td>1.435</td>\n",
       "      <td>1.332</td>\n",
       "      <td>-1.147</td>\n",
       "      <td>2.580</td>\n",
       "    </tr>\n",
       "    <tr>\n",
       "      <th>3</th>\n",
       "      <td>-2.180862</td>\n",
       "      <td>0.745</td>\n",
       "      <td>-0.245</td>\n",
       "      <td>-1.343</td>\n",
       "      <td>1.163</td>\n",
       "      <td>-0.169</td>\n",
       "      <td>-0.151</td>\n",
       "      <td>-1.100</td>\n",
       "      <td>0.225</td>\n",
       "      <td>1.223</td>\n",
       "      <td>...</td>\n",
       "      <td>0.709</td>\n",
       "      <td>-0.203</td>\n",
       "      <td>-0.136</td>\n",
       "      <td>-0.571</td>\n",
       "      <td>1.682</td>\n",
       "      <td>0.243</td>\n",
       "      <td>-0.381</td>\n",
       "      <td>0.613</td>\n",
       "      <td>1.033</td>\n",
       "      <td>0.400</td>\n",
       "    </tr>\n",
       "    <tr>\n",
       "      <th>4</th>\n",
       "      <td>5.462784</td>\n",
       "      <td>1.217</td>\n",
       "      <td>-1.324</td>\n",
       "      <td>-0.958</td>\n",
       "      <td>0.448</td>\n",
       "      <td>-2.873</td>\n",
       "      <td>-0.856</td>\n",
       "      <td>0.603</td>\n",
       "      <td>0.763</td>\n",
       "      <td>0.020</td>\n",
       "      <td>...</td>\n",
       "      <td>0.892</td>\n",
       "      <td>-0.433</td>\n",
       "      <td>-0.877</td>\n",
       "      <td>0.289</td>\n",
       "      <td>0.654</td>\n",
       "      <td>1.230</td>\n",
       "      <td>0.457</td>\n",
       "      <td>-0.754</td>\n",
       "      <td>-0.025</td>\n",
       "      <td>-0.931</td>\n",
       "    </tr>\n",
       "  </tbody>\n",
       "</table>\n",
       "<p>5 rows × 255 columns</p>\n",
       "</div>"
      ],
      "text/plain": [
       "     target    f_0    f_1    f_2    f_3    f_4    f_5    f_6    f_7    f_8  \\\n",
       "0  3.066056 -0.653  0.255 -0.615 -1.833 -0.736    NaN  1.115 -0.171 -0.351   \n",
       "1 -1.910473  1.179 -0.093 -0.556  0.811 -0.468 -0.005 -0.116 -1.243  1.985   \n",
       "2  7.830711  0.181 -0.778 -0.919  0.113  0.887 -0.762  1.872 -1.709  0.135   \n",
       "3 -2.180862  0.745 -0.245 -1.343  1.163 -0.169 -0.151 -1.100  0.225  1.223   \n",
       "4  5.462784  1.217 -1.324 -0.958  0.448 -2.873 -0.856  0.603  0.763  0.020   \n",
       "\n",
       "   ...    f_244  f_245  f_246  f_247  f_248  f_249  f_250  f_251  f_252  f_253  \n",
       "0  ...   -1.607 -1.400 -0.920 -0.198 -0.945 -0.573  0.170 -0.418 -1.244 -0.503  \n",
       "1  ...    1.282  0.032 -0.061    NaN -0.061 -0.302  1.281 -0.850  0.821 -0.260  \n",
       "2  ...   -0.237 -0.660  1.073 -0.193  0.570 -0.267  1.435  1.332 -1.147  2.580  \n",
       "3  ...    0.709 -0.203 -0.136 -0.571  1.682  0.243 -0.381  0.613  1.033  0.400  \n",
       "4  ...    0.892 -0.433 -0.877  0.289  0.654  1.230  0.457 -0.754 -0.025 -0.931  \n",
       "\n",
       "[5 rows x 255 columns]"
      ]
     },
     "execution_count": 75,
     "metadata": {},
     "output_type": "execute_result"
    }
   ],
   "source": [
    "df.head()"
   ]
  },
  {
   "cell_type": "markdown",
   "metadata": {},
   "source": [
    "## Looking at data and deciding on pre-processing"
   ]
  },
  {
   "cell_type": "code",
   "execution_count": 76,
   "metadata": {
    "collapsed": false
   },
   "outputs": [
    {
     "data": {
      "text/plain": [
       "254"
      ]
     },
     "execution_count": 76,
     "metadata": {},
     "output_type": "execute_result"
    }
   ],
   "source": [
    "df.isnull().any().sum()"
   ]
  },
  {
   "cell_type": "markdown",
   "metadata": {},
   "source": [
    "Apart from the target variable all the columns have missing values"
   ]
  },
  {
   "cell_type": "code",
   "execution_count": 77,
   "metadata": {
    "collapsed": false
   },
   "outputs": [
    {
     "name": "stdout",
     "output_type": "stream",
     "text": [
      "No. of categorical varaibles: 4\n",
      "No. of numerical varaibles: 251\n"
     ]
    }
   ],
   "source": [
    "categorical_variables =[]\n",
    "numerical_variables = []\n",
    "for features in df.columns:\n",
    "    if df[features].dtype.name == 'float64':\n",
    "        numerical_variables.append(features)\n",
    "    else :\n",
    "        categorical_variables.append(features)\n",
    "print 'No. of categorical varaibles: %s' %len(categorical_variables)\n",
    "print 'No. of numerical varaibles: %s' %len(numerical_variables)"
   ]
  },
  {
   "cell_type": "markdown",
   "metadata": {},
   "source": [
    "Since all the variables are missing , we start with imputation of numerical variables with mean (as the numbers are contnuous) and categorical variables with their mode."
   ]
  },
  {
   "cell_type": "code",
   "execution_count": 78,
   "metadata": {
    "collapsed": false
   },
   "outputs": [],
   "source": [
    "for features in numerical_variables:\n",
    "    df[features]= df[features].fillna(df[features].mean(axis=0))\n",
    "for features in categorical_variables:\n",
    "    df[features] = df[features].fillna(df[features].mode().iloc[0])"
   ]
  },
  {
   "cell_type": "code",
   "execution_count": 79,
   "metadata": {
    "collapsed": false
   },
   "outputs": [
    {
     "data": {
      "text/plain": [
       "0"
      ]
     },
     "execution_count": 79,
     "metadata": {},
     "output_type": "execute_result"
    }
   ],
   "source": [
    "df.isnull().any().sum()"
   ]
  },
  {
   "cell_type": "code",
   "execution_count": 80,
   "metadata": {
    "collapsed": false
   },
   "outputs": [
    {
     "data": {
      "text/html": [
       "<div>\n",
       "<table border=\"1\" class=\"dataframe\">\n",
       "  <thead>\n",
       "    <tr style=\"text-align: right;\">\n",
       "      <th></th>\n",
       "      <th>f_61</th>\n",
       "      <th>f_121</th>\n",
       "      <th>f_215</th>\n",
       "      <th>f_237</th>\n",
       "    </tr>\n",
       "  </thead>\n",
       "  <tbody>\n",
       "    <tr>\n",
       "      <th>0</th>\n",
       "      <td>d</td>\n",
       "      <td>B</td>\n",
       "      <td>red</td>\n",
       "      <td>Canada</td>\n",
       "    </tr>\n",
       "  </tbody>\n",
       "</table>\n",
       "</div>"
      ],
      "text/plain": [
       "  f_61 f_121 f_215   f_237\n",
       "0    d     B   red  Canada"
      ]
     },
     "execution_count": 80,
     "metadata": {},
     "output_type": "execute_result"
    }
   ],
   "source": [
    "df[categorical_variables].mode()"
   ]
  },
  {
   "cell_type": "code",
   "execution_count": 81,
   "metadata": {
    "collapsed": false
   },
   "outputs": [],
   "source": [
    "y= df['target']\n",
    "df_new= df.drop(['target'],axis=1)\n",
    "numerical_variables.remove('target')"
   ]
  },
  {
   "cell_type": "code",
   "execution_count": 82,
   "metadata": {
    "collapsed": true
   },
   "outputs": [],
   "source": [
    "def unfold_categorical(df1,column,df2):\n",
    "    i=1\n",
    "    for values in df1[column].unique():\n",
    "        string = str(column) + '_' + str(i)\n",
    "        df2[string]=df1[column].apply(lambda x:+1 if x==values else 0)\n",
    "        i+=1\n",
    "\n",
    "def normalise_numerical(df, column):\n",
    "    df[column]=df[column]/float((df[column].max() - df[column].min()))"
   ]
  },
  {
   "cell_type": "code",
   "execution_count": 83,
   "metadata": {
    "collapsed": false
   },
   "outputs": [
    {
     "name": "stderr",
     "output_type": "stream",
     "text": [
      "/usr/local/lib/python2.7/dist-packages/ipykernel/__main__.py:9: SettingWithCopyWarning: \n",
      "A value is trying to be set on a copy of a slice from a DataFrame.\n",
      "Try using .loc[row_indexer,col_indexer] = value instead\n",
      "\n",
      "See the caveats in the documentation: http://pandas.pydata.org/pandas-docs/stable/indexing.html#indexing-view-versus-copy\n",
      "/usr/local/lib/python2.7/dist-packages/ipykernel/__main__.py:5: SettingWithCopyWarning: \n",
      "A value is trying to be set on a copy of a slice from a DataFrame.\n",
      "Try using .loc[row_indexer,col_indexer] = value instead\n",
      "\n",
      "See the caveats in the documentation: http://pandas.pydata.org/pandas-docs/stable/indexing.html#indexing-view-versus-copy\n"
     ]
    }
   ],
   "source": [
    "df_unfolded = df_new[numerical_variables]\n",
    "for features in numerical_variables:\n",
    "    normalise_numerical(df_unfolded,features)\n",
    "for features in categorical_variables:\n",
    "    unfold_categorical(df_new, features, df_unfolded)"
   ]
  },
  {
   "cell_type": "code",
   "execution_count": 84,
   "metadata": {
    "collapsed": false
   },
   "outputs": [
    {
     "data": {
      "text/html": [
       "<div>\n",
       "<table border=\"1\" class=\"dataframe\">\n",
       "  <thead>\n",
       "    <tr style=\"text-align: right;\">\n",
       "      <th></th>\n",
       "      <th>f_215_2</th>\n",
       "      <th>f_215_1</th>\n",
       "    </tr>\n",
       "  </thead>\n",
       "  <tbody>\n",
       "    <tr>\n",
       "      <th>0</th>\n",
       "      <td>0</td>\n",
       "      <td>1</td>\n",
       "    </tr>\n",
       "    <tr>\n",
       "      <th>1</th>\n",
       "      <td>1</td>\n",
       "      <td>0</td>\n",
       "    </tr>\n",
       "    <tr>\n",
       "      <th>2</th>\n",
       "      <td>0</td>\n",
       "      <td>0</td>\n",
       "    </tr>\n",
       "    <tr>\n",
       "      <th>3</th>\n",
       "      <td>1</td>\n",
       "      <td>0</td>\n",
       "    </tr>\n",
       "    <tr>\n",
       "      <th>4</th>\n",
       "      <td>0</td>\n",
       "      <td>0</td>\n",
       "    </tr>\n",
       "    <tr>\n",
       "      <th>5</th>\n",
       "      <td>1</td>\n",
       "      <td>0</td>\n",
       "    </tr>\n",
       "    <tr>\n",
       "      <th>6</th>\n",
       "      <td>0</td>\n",
       "      <td>0</td>\n",
       "    </tr>\n",
       "    <tr>\n",
       "      <th>7</th>\n",
       "      <td>0</td>\n",
       "      <td>1</td>\n",
       "    </tr>\n",
       "    <tr>\n",
       "      <th>8</th>\n",
       "      <td>0</td>\n",
       "      <td>0</td>\n",
       "    </tr>\n",
       "    <tr>\n",
       "      <th>9</th>\n",
       "      <td>1</td>\n",
       "      <td>0</td>\n",
       "    </tr>\n",
       "    <tr>\n",
       "      <th>10</th>\n",
       "      <td>0</td>\n",
       "      <td>0</td>\n",
       "    </tr>\n",
       "    <tr>\n",
       "      <th>11</th>\n",
       "      <td>0</td>\n",
       "      <td>1</td>\n",
       "    </tr>\n",
       "    <tr>\n",
       "      <th>12</th>\n",
       "      <td>0</td>\n",
       "      <td>1</td>\n",
       "    </tr>\n",
       "    <tr>\n",
       "      <th>13</th>\n",
       "      <td>0</td>\n",
       "      <td>1</td>\n",
       "    </tr>\n",
       "    <tr>\n",
       "      <th>14</th>\n",
       "      <td>0</td>\n",
       "      <td>0</td>\n",
       "    </tr>\n",
       "    <tr>\n",
       "      <th>15</th>\n",
       "      <td>0</td>\n",
       "      <td>0</td>\n",
       "    </tr>\n",
       "    <tr>\n",
       "      <th>16</th>\n",
       "      <td>0</td>\n",
       "      <td>0</td>\n",
       "    </tr>\n",
       "    <tr>\n",
       "      <th>17</th>\n",
       "      <td>0</td>\n",
       "      <td>0</td>\n",
       "    </tr>\n",
       "    <tr>\n",
       "      <th>18</th>\n",
       "      <td>1</td>\n",
       "      <td>0</td>\n",
       "    </tr>\n",
       "    <tr>\n",
       "      <th>19</th>\n",
       "      <td>0</td>\n",
       "      <td>1</td>\n",
       "    </tr>\n",
       "    <tr>\n",
       "      <th>20</th>\n",
       "      <td>0</td>\n",
       "      <td>0</td>\n",
       "    </tr>\n",
       "    <tr>\n",
       "      <th>21</th>\n",
       "      <td>1</td>\n",
       "      <td>0</td>\n",
       "    </tr>\n",
       "    <tr>\n",
       "      <th>22</th>\n",
       "      <td>0</td>\n",
       "      <td>1</td>\n",
       "    </tr>\n",
       "    <tr>\n",
       "      <th>23</th>\n",
       "      <td>0</td>\n",
       "      <td>0</td>\n",
       "    </tr>\n",
       "    <tr>\n",
       "      <th>24</th>\n",
       "      <td>0</td>\n",
       "      <td>1</td>\n",
       "    </tr>\n",
       "    <tr>\n",
       "      <th>25</th>\n",
       "      <td>0</td>\n",
       "      <td>1</td>\n",
       "    </tr>\n",
       "    <tr>\n",
       "      <th>26</th>\n",
       "      <td>0</td>\n",
       "      <td>0</td>\n",
       "    </tr>\n",
       "    <tr>\n",
       "      <th>27</th>\n",
       "      <td>0</td>\n",
       "      <td>0</td>\n",
       "    </tr>\n",
       "    <tr>\n",
       "      <th>28</th>\n",
       "      <td>0</td>\n",
       "      <td>0</td>\n",
       "    </tr>\n",
       "    <tr>\n",
       "      <th>29</th>\n",
       "      <td>0</td>\n",
       "      <td>1</td>\n",
       "    </tr>\n",
       "    <tr>\n",
       "      <th>...</th>\n",
       "      <td>...</td>\n",
       "      <td>...</td>\n",
       "    </tr>\n",
       "    <tr>\n",
       "      <th>4970</th>\n",
       "      <td>1</td>\n",
       "      <td>0</td>\n",
       "    </tr>\n",
       "    <tr>\n",
       "      <th>4971</th>\n",
       "      <td>1</td>\n",
       "      <td>0</td>\n",
       "    </tr>\n",
       "    <tr>\n",
       "      <th>4972</th>\n",
       "      <td>0</td>\n",
       "      <td>1</td>\n",
       "    </tr>\n",
       "    <tr>\n",
       "      <th>4973</th>\n",
       "      <td>0</td>\n",
       "      <td>1</td>\n",
       "    </tr>\n",
       "    <tr>\n",
       "      <th>4974</th>\n",
       "      <td>1</td>\n",
       "      <td>0</td>\n",
       "    </tr>\n",
       "    <tr>\n",
       "      <th>4975</th>\n",
       "      <td>1</td>\n",
       "      <td>0</td>\n",
       "    </tr>\n",
       "    <tr>\n",
       "      <th>4976</th>\n",
       "      <td>0</td>\n",
       "      <td>0</td>\n",
       "    </tr>\n",
       "    <tr>\n",
       "      <th>4977</th>\n",
       "      <td>0</td>\n",
       "      <td>0</td>\n",
       "    </tr>\n",
       "    <tr>\n",
       "      <th>4978</th>\n",
       "      <td>0</td>\n",
       "      <td>0</td>\n",
       "    </tr>\n",
       "    <tr>\n",
       "      <th>4979</th>\n",
       "      <td>0</td>\n",
       "      <td>1</td>\n",
       "    </tr>\n",
       "    <tr>\n",
       "      <th>4980</th>\n",
       "      <td>1</td>\n",
       "      <td>0</td>\n",
       "    </tr>\n",
       "    <tr>\n",
       "      <th>4981</th>\n",
       "      <td>0</td>\n",
       "      <td>0</td>\n",
       "    </tr>\n",
       "    <tr>\n",
       "      <th>4982</th>\n",
       "      <td>0</td>\n",
       "      <td>0</td>\n",
       "    </tr>\n",
       "    <tr>\n",
       "      <th>4983</th>\n",
       "      <td>0</td>\n",
       "      <td>0</td>\n",
       "    </tr>\n",
       "    <tr>\n",
       "      <th>4984</th>\n",
       "      <td>1</td>\n",
       "      <td>0</td>\n",
       "    </tr>\n",
       "    <tr>\n",
       "      <th>4985</th>\n",
       "      <td>0</td>\n",
       "      <td>1</td>\n",
       "    </tr>\n",
       "    <tr>\n",
       "      <th>4986</th>\n",
       "      <td>0</td>\n",
       "      <td>0</td>\n",
       "    </tr>\n",
       "    <tr>\n",
       "      <th>4987</th>\n",
       "      <td>0</td>\n",
       "      <td>1</td>\n",
       "    </tr>\n",
       "    <tr>\n",
       "      <th>4988</th>\n",
       "      <td>0</td>\n",
       "      <td>0</td>\n",
       "    </tr>\n",
       "    <tr>\n",
       "      <th>4989</th>\n",
       "      <td>1</td>\n",
       "      <td>0</td>\n",
       "    </tr>\n",
       "    <tr>\n",
       "      <th>4990</th>\n",
       "      <td>0</td>\n",
       "      <td>0</td>\n",
       "    </tr>\n",
       "    <tr>\n",
       "      <th>4991</th>\n",
       "      <td>0</td>\n",
       "      <td>0</td>\n",
       "    </tr>\n",
       "    <tr>\n",
       "      <th>4992</th>\n",
       "      <td>0</td>\n",
       "      <td>1</td>\n",
       "    </tr>\n",
       "    <tr>\n",
       "      <th>4993</th>\n",
       "      <td>0</td>\n",
       "      <td>0</td>\n",
       "    </tr>\n",
       "    <tr>\n",
       "      <th>4994</th>\n",
       "      <td>0</td>\n",
       "      <td>0</td>\n",
       "    </tr>\n",
       "    <tr>\n",
       "      <th>4995</th>\n",
       "      <td>1</td>\n",
       "      <td>0</td>\n",
       "    </tr>\n",
       "    <tr>\n",
       "      <th>4996</th>\n",
       "      <td>0</td>\n",
       "      <td>1</td>\n",
       "    </tr>\n",
       "    <tr>\n",
       "      <th>4997</th>\n",
       "      <td>0</td>\n",
       "      <td>0</td>\n",
       "    </tr>\n",
       "    <tr>\n",
       "      <th>4998</th>\n",
       "      <td>1</td>\n",
       "      <td>0</td>\n",
       "    </tr>\n",
       "    <tr>\n",
       "      <th>4999</th>\n",
       "      <td>0</td>\n",
       "      <td>1</td>\n",
       "    </tr>\n",
       "  </tbody>\n",
       "</table>\n",
       "<p>5000 rows × 2 columns</p>\n",
       "</div>"
      ],
      "text/plain": [
       "      f_215_2  f_215_1\n",
       "0           0        1\n",
       "1           1        0\n",
       "2           0        0\n",
       "3           1        0\n",
       "4           0        0\n",
       "5           1        0\n",
       "6           0        0\n",
       "7           0        1\n",
       "8           0        0\n",
       "9           1        0\n",
       "10          0        0\n",
       "11          0        1\n",
       "12          0        1\n",
       "13          0        1\n",
       "14          0        0\n",
       "15          0        0\n",
       "16          0        0\n",
       "17          0        0\n",
       "18          1        0\n",
       "19          0        1\n",
       "20          0        0\n",
       "21          1        0\n",
       "22          0        1\n",
       "23          0        0\n",
       "24          0        1\n",
       "25          0        1\n",
       "26          0        0\n",
       "27          0        0\n",
       "28          0        0\n",
       "29          0        1\n",
       "...       ...      ...\n",
       "4970        1        0\n",
       "4971        1        0\n",
       "4972        0        1\n",
       "4973        0        1\n",
       "4974        1        0\n",
       "4975        1        0\n",
       "4976        0        0\n",
       "4977        0        0\n",
       "4978        0        0\n",
       "4979        0        1\n",
       "4980        1        0\n",
       "4981        0        0\n",
       "4982        0        0\n",
       "4983        0        0\n",
       "4984        1        0\n",
       "4985        0        1\n",
       "4986        0        0\n",
       "4987        0        1\n",
       "4988        0        0\n",
       "4989        1        0\n",
       "4990        0        0\n",
       "4991        0        0\n",
       "4992        0        1\n",
       "4993        0        0\n",
       "4994        0        0\n",
       "4995        1        0\n",
       "4996        0        1\n",
       "4997        0        0\n",
       "4998        1        0\n",
       "4999        0        1\n",
       "\n",
       "[5000 rows x 2 columns]"
      ]
     },
     "execution_count": 84,
     "metadata": {},
     "output_type": "execute_result"
    }
   ],
   "source": [
    "df_unfolded[['f_215_2', 'f_215_1']]\n",
    "# What do this values mean? My guess is that it was assumed to encode categorical values, e.g [a, b, c] -> [0, 1, 2] \n",
    "# and replace categorical values with numeric ones through 'unfold_categorical' function, but it was implemented wrong. "
   ]
  },
  {
   "cell_type": "markdown",
   "metadata": {},
   "source": [
    " 14 more features added due to unfolding of categorical_vaiables \n",
    " ## Comment\n",
    " What does unfolding mean here? We add extra features here which may have huge effect (and probably the do) "
   ]
  },
  {
   "cell_type": "code",
   "execution_count": 86,
   "metadata": {
    "collapsed": false
   },
   "outputs": [
    {
     "data": {
      "text/html": [
       "<div>\n",
       "<table border=\"1\" class=\"dataframe\">\n",
       "  <thead>\n",
       "    <tr style=\"text-align: right;\">\n",
       "      <th></th>\n",
       "      <th>f_0</th>\n",
       "      <th>f_1</th>\n",
       "      <th>f_2</th>\n",
       "      <th>f_3</th>\n",
       "      <th>f_4</th>\n",
       "      <th>f_5</th>\n",
       "      <th>f_6</th>\n",
       "      <th>f_7</th>\n",
       "      <th>f_8</th>\n",
       "      <th>f_9</th>\n",
       "      <th>...</th>\n",
       "      <th>f_121_4</th>\n",
       "      <th>f_121_5</th>\n",
       "      <th>f_121_6</th>\n",
       "      <th>f_215_1</th>\n",
       "      <th>f_215_2</th>\n",
       "      <th>f_215_3</th>\n",
       "      <th>f_215_4</th>\n",
       "      <th>f_237_1</th>\n",
       "      <th>f_237_2</th>\n",
       "      <th>f_237_3</th>\n",
       "    </tr>\n",
       "  </thead>\n",
       "  <tbody>\n",
       "    <tr>\n",
       "      <th>0</th>\n",
       "      <td>-0.084020</td>\n",
       "      <td>0.032513</td>\n",
       "      <td>-0.087644</td>\n",
       "      <td>-0.218318</td>\n",
       "      <td>-0.113126</td>\n",
       "      <td>0.000667</td>\n",
       "      <td>0.151804</td>\n",
       "      <td>-0.022242</td>\n",
       "      <td>-0.043592</td>\n",
       "      <td>-0.014739</td>\n",
       "      <td>...</td>\n",
       "      <td>0</td>\n",
       "      <td>0</td>\n",
       "      <td>0</td>\n",
       "      <td>1</td>\n",
       "      <td>0</td>\n",
       "      <td>0</td>\n",
       "      <td>0</td>\n",
       "      <td>1</td>\n",
       "      <td>0</td>\n",
       "      <td>0</td>\n",
       "    </tr>\n",
       "    <tr>\n",
       "      <th>1</th>\n",
       "      <td>0.151698</td>\n",
       "      <td>-0.011858</td>\n",
       "      <td>-0.079236</td>\n",
       "      <td>0.096594</td>\n",
       "      <td>-0.071934</td>\n",
       "      <td>-0.000599</td>\n",
       "      <td>-0.015793</td>\n",
       "      <td>-0.161681</td>\n",
       "      <td>0.246523</td>\n",
       "      <td>-0.116431</td>\n",
       "      <td>...</td>\n",
       "      <td>0</td>\n",
       "      <td>0</td>\n",
       "      <td>0</td>\n",
       "      <td>0</td>\n",
       "      <td>1</td>\n",
       "      <td>0</td>\n",
       "      <td>0</td>\n",
       "      <td>1</td>\n",
       "      <td>0</td>\n",
       "      <td>0</td>\n",
       "    </tr>\n",
       "    <tr>\n",
       "      <th>2</th>\n",
       "      <td>0.023289</td>\n",
       "      <td>-0.099197</td>\n",
       "      <td>-0.130968</td>\n",
       "      <td>0.013459</td>\n",
       "      <td>0.136336</td>\n",
       "      <td>-0.091290</td>\n",
       "      <td>0.254867</td>\n",
       "      <td>-0.222294</td>\n",
       "      <td>0.016766</td>\n",
       "      <td>0.124657</td>\n",
       "      <td>...</td>\n",
       "      <td>0</td>\n",
       "      <td>0</td>\n",
       "      <td>0</td>\n",
       "      <td>0</td>\n",
       "      <td>0</td>\n",
       "      <td>1</td>\n",
       "      <td>0</td>\n",
       "      <td>1</td>\n",
       "      <td>0</td>\n",
       "      <td>0</td>\n",
       "    </tr>\n",
       "    <tr>\n",
       "      <th>3</th>\n",
       "      <td>0.095857</td>\n",
       "      <td>-0.031238</td>\n",
       "      <td>-0.191392</td>\n",
       "      <td>0.138518</td>\n",
       "      <td>-0.025976</td>\n",
       "      <td>-0.018090</td>\n",
       "      <td>-0.149762</td>\n",
       "      <td>0.029266</td>\n",
       "      <td>0.151888</td>\n",
       "      <td>0.071527</td>\n",
       "      <td>...</td>\n",
       "      <td>1</td>\n",
       "      <td>0</td>\n",
       "      <td>0</td>\n",
       "      <td>0</td>\n",
       "      <td>1</td>\n",
       "      <td>0</td>\n",
       "      <td>0</td>\n",
       "      <td>0</td>\n",
       "      <td>1</td>\n",
       "      <td>0</td>\n",
       "    </tr>\n",
       "    <tr>\n",
       "      <th>4</th>\n",
       "      <td>0.156588</td>\n",
       "      <td>-0.168813</td>\n",
       "      <td>-0.136526</td>\n",
       "      <td>0.053359</td>\n",
       "      <td>-0.441592</td>\n",
       "      <td>-0.102552</td>\n",
       "      <td>0.082097</td>\n",
       "      <td>0.099246</td>\n",
       "      <td>0.002484</td>\n",
       "      <td>-0.034049</td>\n",
       "      <td>...</td>\n",
       "      <td>0</td>\n",
       "      <td>1</td>\n",
       "      <td>0</td>\n",
       "      <td>0</td>\n",
       "      <td>0</td>\n",
       "      <td>1</td>\n",
       "      <td>0</td>\n",
       "      <td>1</td>\n",
       "      <td>0</td>\n",
       "      <td>0</td>\n",
       "    </tr>\n",
       "  </tbody>\n",
       "</table>\n",
       "<p>5 rows × 268 columns</p>\n",
       "</div>"
      ],
      "text/plain": [
       "        f_0       f_1       f_2       f_3       f_4       f_5       f_6  \\\n",
       "0 -0.084020  0.032513 -0.087644 -0.218318 -0.113126  0.000667  0.151804   \n",
       "1  0.151698 -0.011858 -0.079236  0.096594 -0.071934 -0.000599 -0.015793   \n",
       "2  0.023289 -0.099197 -0.130968  0.013459  0.136336 -0.091290  0.254867   \n",
       "3  0.095857 -0.031238 -0.191392  0.138518 -0.025976 -0.018090 -0.149762   \n",
       "4  0.156588 -0.168813 -0.136526  0.053359 -0.441592 -0.102552  0.082097   \n",
       "\n",
       "        f_7       f_8       f_9   ...     f_121_4  f_121_5  f_121_6  f_215_1  \\\n",
       "0 -0.022242 -0.043592 -0.014739   ...           0        0        0        1   \n",
       "1 -0.161681  0.246523 -0.116431   ...           0        0        0        0   \n",
       "2 -0.222294  0.016766  0.124657   ...           0        0        0        0   \n",
       "3  0.029266  0.151888  0.071527   ...           1        0        0        0   \n",
       "4  0.099246  0.002484 -0.034049   ...           0        1        0        0   \n",
       "\n",
       "   f_215_2  f_215_3  f_215_4  f_237_1  f_237_2  f_237_3  \n",
       "0        0        0        0        1        0        0  \n",
       "1        1        0        0        1        0        0  \n",
       "2        0        1        0        1        0        0  \n",
       "3        1        0        0        0        1        0  \n",
       "4        0        1        0        1        0        0  \n",
       "\n",
       "[5 rows x 268 columns]"
      ]
     },
     "execution_count": 86,
     "metadata": {},
     "output_type": "execute_result"
    }
   ],
   "source": [
    "df_unfolded.head()"
   ]
  },
  {
   "cell_type": "markdown",
   "metadata": {},
   "source": [
    "From above, note that new features are not normalized. We should call unfold_categorical before norlamize.."
   ]
  },
  {
   "cell_type": "code",
   "execution_count": 87,
   "metadata": {
    "collapsed": false
   },
   "outputs": [
    {
     "data": {
      "text/plain": [
       "0       1\n",
       "1       0\n",
       "2       0\n",
       "3       0\n",
       "4       0\n",
       "5       0\n",
       "6       0\n",
       "7       1\n",
       "8       0\n",
       "9       0\n",
       "10      0\n",
       "11      1\n",
       "12      1\n",
       "13      1\n",
       "14      0\n",
       "15      0\n",
       "16      0\n",
       "17      0\n",
       "18      0\n",
       "19      1\n",
       "20      0\n",
       "21      0\n",
       "22      1\n",
       "23      0\n",
       "24      1\n",
       "25      1\n",
       "26      0\n",
       "27      0\n",
       "28      0\n",
       "29      1\n",
       "       ..\n",
       "4970    0\n",
       "4971    0\n",
       "4972    1\n",
       "4973    1\n",
       "4974    0\n",
       "4975    0\n",
       "4976    0\n",
       "4977    0\n",
       "4978    0\n",
       "4979    1\n",
       "4980    0\n",
       "4981    0\n",
       "4982    0\n",
       "4983    0\n",
       "4984    0\n",
       "4985    1\n",
       "4986    0\n",
       "4987    1\n",
       "4988    0\n",
       "4989    0\n",
       "4990    0\n",
       "4991    0\n",
       "4992    1\n",
       "4993    0\n",
       "4994    0\n",
       "4995    0\n",
       "4996    1\n",
       "4997    0\n",
       "4998    0\n",
       "4999    1\n",
       "Name: f_215_1, dtype: int64"
      ]
     },
     "execution_count": 87,
     "metadata": {},
     "output_type": "execute_result"
    }
   ],
   "source": [
    "df_unfolded['f_215_1']"
   ]
  },
  {
   "cell_type": "markdown",
   "metadata": {},
   "source": [
    "## Training the dataset"
   ]
  },
  {
   "cell_type": "code",
   "execution_count": 88,
   "metadata": {
    "collapsed": true
   },
   "outputs": [],
   "source": [
    "from sklearn.cross_validation import train_test_split\n",
    "X_train, X_test, Y_train, Y_test = train_test_split(df_unfolded, y, \n",
    "                                                    random_state = 0,train_size = 0.8)"
   ]
  },
  {
   "cell_type": "code",
   "execution_count": 89,
   "metadata": {
    "collapsed": true
   },
   "outputs": [],
   "source": [
    "import math\n",
    "def get_root_mean_squared_error(model, data, outcome):\n",
    "    predictions = model.predict(data)\n",
    "    error = outcome - predictions\n",
    "    RSS = (error*error).sum()\n",
    "    MSE = RSS/float(len(data))\n",
    "    RMSE = math.sqrt(MSE)\n",
    "    return(RMSE)"
   ]
  },
  {
   "cell_type": "markdown",
   "metadata": {},
   "source": [
    "### Linear Regression "
   ]
  },
  {
   "cell_type": "code",
   "execution_count": 90,
   "metadata": {
    "collapsed": false
   },
   "outputs": [
    {
     "name": "stdout",
     "output_type": "stream",
     "text": [
      "Cross_Vaildation Error is : 3.50609997532\n",
      "Train Error is : 3.28455531852\n",
      "Test Error is : 3.5292616866\n"
     ]
    }
   ],
   "source": [
    "from sklearn.linear_model import LinearRegression\n",
    "from sklearn.cross_validation import KFold\n",
    "\n",
    "n_folds =20\n",
    "cv = KFold(n=X_train.shape[0], n_folds=n_folds)\n",
    "linear_regression = LinearRegression()\n",
    "X_train_array = X_train.as_matrix()\n",
    "Y_train_array = Y_train.as_matrix()\n",
    "cross_val_scores = 0\n",
    "\n",
    "for train, test in cv:\n",
    "    linear_regression.fit(X_train_array[train], Y_train_array[train])\n",
    "    cross_val_scores += get_root_mean_squared_error(linear_regression, X_train_array[test], Y_train_array[test])\n",
    "cross_val_scores /= n_folds\n",
    "\n",
    "\n",
    "print 'Cross_Vaildation Error is : %s' %(cross_val_scores)\n",
    "print 'Train Error is : %s' %(get_root_mean_squared_error(linear_regression, X_train, Y_train))\n",
    "print 'Test Error is : %s' %(get_root_mean_squared_error(linear_regression, X_test, Y_test)) "
   ]
  },
  {
   "cell_type": "markdown",
   "metadata": {},
   "source": [
    "### Ridge Regression"
   ]
  },
  {
   "cell_type": "code",
   "execution_count": 91,
   "metadata": {
    "collapsed": false
   },
   "outputs": [
    {
     "name": "stdout",
     "output_type": "stream",
     "text": [
      "Ridge(alpha=1.0, copy_X=True, fit_intercept=True, max_iter=None,\n",
      "   normalize=False, random_state=None, solver='auto', tol=0.1)\n",
      "Train_error : 3.27356310527 | Test_Error: 3.49754521657\n"
     ]
    }
   ],
   "source": [
    "from sklearn.linear_model import Ridge\n",
    "\n",
    "alphas = [1e-6 , 1e-3, 1e0, 1e3, 1e6]\n",
    "tols = [1e-1, 1e-3, 1e-5]\n",
    "least_error = 10000000\n",
    "\n",
    "for alpha in alphas:\n",
    "    for tol in tols:\n",
    "        model = Ridge (alpha = alpha , tol=tol)\n",
    "        model.fit(X_train, Y_train)\n",
    "        test_error = get_root_mean_squared_error(model, X_test, Y_test)\n",
    "        if test_error < least_error:\n",
    "            best_model = model\n",
    "            least_error = test_error\n",
    "\n",
    "print best_model\n",
    "print 'Train_error : %s | Test_Error: %s' %(get_root_mean_squared_error(best_model, X_train, Y_train), \n",
    "                                            get_root_mean_squared_error(best_model, X_test, Y_test))"
   ]
  },
  {
   "cell_type": "markdown",
   "metadata": {},
   "source": [
    "#### K-Fold Cross Validation for Ridge"
   ]
  },
  {
   "cell_type": "code",
   "execution_count": 15,
   "metadata": {
    "collapsed": false
   },
   "outputs": [
    {
     "name": "stdout",
     "output_type": "stream",
     "text": [
      "Ridge(alpha=1.0, copy_X=True, fit_intercept=True, max_iter=None,\n",
      "   normalize=False, random_state=None, solver='auto', tol=0.001)\n",
      "Overall Cross_Vaildation Score : 41.132111487\n",
      "Train_error : 3.27796803156 | Test_Error: 3.49506542261\n"
     ]
    }
   ],
   "source": [
    "from sklearn.linear_model import Ridge\n",
    "\n",
    "n_folds =20\n",
    "alphas = [1e-6 , 1e-3, 1e0, 1e3, 1e6]\n",
    "tols = [1e-3, 1e-5]\n",
    "least_error = 10000000\n",
    "cv = KFold(n=X_train.shape[0], n_folds= n_folds)\n",
    "X_train_array = X_train.as_matrix()\n",
    "Y_train_array = Y_train.as_matrix()\n",
    "cross_val_scores = 0\n",
    "\n",
    "for train, test in cv:\n",
    "    for alpha in alphas:\n",
    "        for tol in tols:\n",
    "            model = Ridge (alpha = alpha , tol=tol)\n",
    "            model.fit(X_train_array[train], Y_train_array[train])\n",
    "            test_error = get_root_mean_squared_error(model, X_train_array[test], Y_train_array[test])\n",
    "            cross_val_scores += test_error\n",
    "            if test_error < least_error:\n",
    "                best_model = model\n",
    "                least_error = test_error\n",
    "cross_val_scores /= n_folds         \n",
    "                \n",
    "print best_model\n",
    "print 'Overall Cross_Vaildation Score : %s' %(cross_val_scores)\n",
    "print 'Train_error : %s | Test_Error: %s' %(get_root_mean_squared_error(best_model, X_train, Y_train), \n",
    "                                            get_root_mean_squared_error(best_model, X_test, Y_test))"
   ]
  },
  {
   "cell_type": "markdown",
   "metadata": {},
   "source": [
    "### Lasso Regression"
   ]
  },
  {
   "cell_type": "code",
   "execution_count": 16,
   "metadata": {
    "collapsed": false
   },
   "outputs": [
    {
     "name": "stdout",
     "output_type": "stream",
     "text": [
      "Lasso(alpha=0.001, copy_X=True, fit_intercept=True, max_iter=1000,\n",
      "   normalize=False, positive=False, precompute=False, random_state=None,\n",
      "   selection='cyclic', tol=0.001, warm_start=False)\n",
      "Train_error : 3.27500627921 | Test_Error: 3.47452934824\n"
     ]
    },
    {
     "name": "stderr",
     "output_type": "stream",
     "text": [
      "C:\\Users\\Rohit\\Anaconda2\\envs\\dato-env\\lib\\site-packages\\sklearn\\linear_model\\coordinate_descent.py:466: ConvergenceWarning: Objective did not converge. You might want to increase the number of iterations\n",
      "  ConvergenceWarning)\n"
     ]
    }
   ],
   "source": [
    "from sklearn.linear_model import Lasso\n",
    "\n",
    "alphas = [1e-6 , 1e-3, 1e0, 1e3, 1e6]\n",
    "tols = [1e-3, 1e-5]\n",
    "least_error = 10000000\n",
    "\n",
    "for alpha in alphas:\n",
    "    for tol in tols:\n",
    "        model = Lasso (alpha = alpha , tol=tol)\n",
    "        model.fit(X_train, Y_train)\n",
    "        test_error = get_root_mean_squared_error(model, X_test, Y_test)\n",
    "        if test_error < least_error:\n",
    "            best_model = model\n",
    "            least_error = test_error\n",
    "            \n",
    "\n",
    "print best_model\n",
    "print 'Train_error : %s | Test_Error: %s' %(get_root_mean_squared_error(best_model, X_train, Y_train), \n",
    "                                            get_root_mean_squared_error(best_model, X_test, Y_test))"
   ]
  },
  {
   "cell_type": "markdown",
   "metadata": {},
   "source": [
    "#### KFold Classification with Lasso"
   ]
  },
  {
   "cell_type": "code",
   "execution_count": 17,
   "metadata": {
    "collapsed": false
   },
   "outputs": [
    {
     "name": "stdout",
     "output_type": "stream",
     "text": [
      "Lasso(alpha=0.001, copy_X=True, fit_intercept=True, max_iter=1000,\n",
      "   normalize=False, positive=False, precompute=False, random_state=None,\n",
      "   selection='cyclic', tol=1e-05, warm_start=False)\n",
      "Overall Cross_Vaildation Score : 45.3804886321\n",
      "Train_error : 3.27797752879 | Test_Error: 3.47177061053\n"
     ]
    }
   ],
   "source": [
    "from sklearn.linear_model import Lasso\n",
    "\n",
    "n_folds = 20\n",
    "alphas = [1e-6 , 1e-3, 1e0, 1e3, 1e6]\n",
    "tols = [1e-3, 1e-5]\n",
    "least_error = 10000000\n",
    "cv = KFold(n=X_train.shape[0], n_folds= n_folds)\n",
    "X_train_array = X_train.as_matrix()\n",
    "Y_train_array = Y_train.as_matrix()\n",
    "cross_val_scores = 0\n",
    "\n",
    "for train, test in cv:\n",
    "    for alpha in alphas:\n",
    "        for tol in tols:\n",
    "            model = Lasso (alpha = alpha , tol=tol)\n",
    "            model.fit(X_train_array[train], Y_train_array[train])\n",
    "            test_error = get_root_mean_squared_error(model, X_train_array[test], Y_train_array[test])\n",
    "            cross_val_scores += test_error\n",
    "            if test_error < least_error:\n",
    "                best_model = model\n",
    "                least_error = test_error\n",
    "cross_val_scores /= n_folds         \n",
    "                \n",
    "print best_model\n",
    "print 'Overall Cross_Vaildation Score : %s' %(cross_val_scores)\n",
    "print 'Train_error : %s | Test_Error: %s' %(get_root_mean_squared_error(best_model, X_train, Y_train), \n",
    "                                            get_root_mean_squared_error(best_model, X_test, Y_test))"
   ]
  },
  {
   "cell_type": "code",
   "execution_count": 70,
   "metadata": {
    "collapsed": false
   },
   "outputs": [],
   "source": [
    "import cPickle\n",
    "cPickle.dump(best_model, open('Best_Model.pkl','wb'))"
   ]
  },
  {
   "cell_type": "markdown",
   "metadata": {},
   "source": [
    "### Day 2 : PCA & Regression combined"
   ]
  },
  {
   "cell_type": "code",
   "execution_count": 18,
   "metadata": {
    "collapsed": false
   },
   "outputs": [
    {
     "name": "stdout",
     "output_type": "stream",
     "text": [
      "No of components in the best model: 268\n",
      "Ridge(alpha=1.0, copy_X=True, fit_intercept=True, max_iter=None,\n",
      "   normalize=False, random_state=None, solver='auto', tol=0.001)\n",
      "Train_error : 3.27356310527 | Test_Error: 3.49754521657\n"
     ]
    }
   ],
   "source": [
    "from sklearn.linear_model import Ridge\n",
    "from sklearn.decomposition import PCA\n",
    "\n",
    "alphas = [1e-6 , 1e-3, 1e0, 1e3, 1e6]\n",
    "n_components = [120, 180, 240, len(X_train.columns)]\n",
    "least_error = 10000000\n",
    "\n",
    "for alpha in alphas:\n",
    "    for component  in n_components:\n",
    "        pca = PCA(n_components=component)\n",
    "        pca = pca.fit(X_train)\n",
    "        X_train_new = pca.transform(X_train)\n",
    "        X_test_new = pca.transform(X_test)\n",
    "        model = Ridge (alpha = alpha)\n",
    "        model.fit(X_train_new, Y_train)\n",
    "        test_error = get_root_mean_squared_error(model, X_test_new, Y_test)\n",
    "        if test_error < least_error:\n",
    "            least_component = component\n",
    "            best_model = model\n",
    "            least_error = test_error\n",
    "            \n",
    "print 'No of components in the best model: %s'%(least_component)\n",
    "print best_model\n",
    "print 'Train_error : %s | Test_Error: %s' %(get_root_mean_squared_error(best_model, X_train_new, Y_train), \n",
    "                                            get_root_mean_squared_error(best_model, X_test_new, Y_test))"
   ]
  },
  {
   "cell_type": "markdown",
   "metadata": {},
   "source": [
    "#### PCA + Ridge-Regression + K-Fold Validation"
   ]
  },
  {
   "cell_type": "code",
   "execution_count": 19,
   "metadata": {
    "collapsed": false
   },
   "outputs": [
    {
     "name": "stdout",
     "output_type": "stream",
     "text": [
      "No of components in the best model: 268\n",
      "Ridge(alpha=1.0, copy_X=True, fit_intercept=True, max_iter=None,\n",
      "   normalize=False, random_state=None, solver='auto', tol=0.001)\n",
      "Overall Cross_Validation Score: 84.4503292113\n",
      "Train_error : 3.27796803156 | Test_Error: 3.49506542261\n"
     ]
    }
   ],
   "source": [
    "from sklearn.linear_model import Ridge\n",
    "from sklearn.decomposition import PCA\n",
    "\n",
    "n_folds = 20\n",
    "alphas = [1e-6 , 1e-3, 1e0, 1e3, 1e6]\n",
    "n_components = [120, 180, 240, len(X_train.columns)]\n",
    "least_error = 10000000\n",
    "cv = KFold(n=X_train.shape[0], n_folds= n_folds)\n",
    "X_train_array = X_train.as_matrix()\n",
    "Y_train_array = Y_train.as_matrix()\n",
    "cross_val_scores = 0\n",
    "\n",
    "\n",
    "for train, test in cv:\n",
    "    for alpha in alphas:\n",
    "        for components  in n_components:\n",
    "            pca = PCA(n_components=components)\n",
    "            pca = pca.fit(X_train_array[train])\n",
    "            X_train_new = pca.transform(X_train_array[train])\n",
    "            X_test_new = pca.transform(X_train_array[test])\n",
    "            model = Ridge(alpha = alpha)\n",
    "            model.fit(X_train_new, Y_train_array[train])\n",
    "            test_error = get_root_mean_squared_error(model, X_test_new, Y_train_array[test])\n",
    "            cross_val_scores += test_error\n",
    "            if test_error < least_error:\n",
    "                least_component = component\n",
    "                best_model = model\n",
    "                least_error = test_error\n",
    "                best_pca = pca\n",
    "cross_val_scores /= n_folds\n",
    "            \n",
    "print 'No of components in the best model: %s'%(least_component)\n",
    "print best_model\n",
    "print 'Overall Cross_Validation Score: %s' %(cross_val_scores)\n",
    "print 'Train_error : %s | Test_Error: %s' %(get_root_mean_squared_error(best_model, best_pca.transform(X_train), Y_train), \n",
    "                                            get_root_mean_squared_error(best_model, best_pca.transform(X_test), Y_test))"
   ]
  },
  {
   "cell_type": "markdown",
   "metadata": {},
   "source": [
    "#### PCA + Lasso"
   ]
  },
  {
   "cell_type": "code",
   "execution_count": 21,
   "metadata": {
    "collapsed": false
   },
   "outputs": [
    {
     "name": "stdout",
     "output_type": "stream",
     "text": [
      "No of components in the best model: 268\n",
      "Lasso(alpha=0.001, copy_X=True, fit_intercept=True, max_iter=1000,\n",
      "   normalize=False, positive=False, precompute=False, random_state=None,\n",
      "   selection='cyclic', tol=0.0001, warm_start=False)\n",
      "Train_error : 3.27512492286 | Test_Error: 3.48935788896\n"
     ]
    }
   ],
   "source": [
    "from sklearn.linear_model import Lasso\n",
    "from sklearn.decomposition import PCA\n",
    "\n",
    "alphas = [1e-6 , 1e-3, 1e0, 1e3, 1e6]\n",
    "n_components = [120, 180, 240, len(X_train.columns)]\n",
    "least_error = 10000000\n",
    "\n",
    "models_PCA_Lasso =[]\n",
    "for alpha in alphas:\n",
    "    for components  in n_components:\n",
    "        pca = PCA(n_components=components)\n",
    "        pca = pca.fit(X_train)\n",
    "        X_train_new = pca.transform(X_train)\n",
    "        X_test_new = pca.transform(X_test)\n",
    "        model = Lasso(alpha = alpha)\n",
    "        model.fit(X_train_new, Y_train)\n",
    "        test_error = get_root_mean_squared_error(model, X_test_new, Y_test)\n",
    "        if test_error < least_error:\n",
    "            least_component = component\n",
    "            best_model = model\n",
    "            least_error = test_error\n",
    "            \n",
    "print 'No of components in the best model: %s'%(least_component)\n",
    "print best_model\n",
    "print 'Train_error : %s | Test_Error: %s' %(get_root_mean_squared_error(best_model, X_train_new, Y_train), \n",
    "                                            get_root_mean_squared_error(best_model, X_test_new, Y_test))"
   ]
  },
  {
   "cell_type": "markdown",
   "metadata": {},
   "source": [
    "#### PCA + Lasso + K-Fold"
   ]
  },
  {
   "cell_type": "code",
   "execution_count": 22,
   "metadata": {
    "collapsed": false
   },
   "outputs": [
    {
     "name": "stdout",
     "output_type": "stream",
     "text": [
      "No of components in the best model: 268\n",
      "Lasso(alpha=0.001, copy_X=True, fit_intercept=True, max_iter=1000,\n",
      "   normalize=False, positive=False, precompute=False, random_state=None,\n",
      "   selection='cyclic', tol=0.0001, warm_start=False)\n",
      "Overall Cross_Validation Score: 92.2807306963\n",
      "Train_error : 3.27848676588 | Test_Error: 3.48700479959\n"
     ]
    }
   ],
   "source": [
    "from sklearn.linear_model import Lasso\n",
    "from sklearn.decomposition import PCA\n",
    "\n",
    "n_folds = 20\n",
    "alphas = [1e-6 , 1e-3, 1e0, 1e3, 1e6]\n",
    "n_components = [120, 180, 240, len(X_train.columns)]\n",
    "least_error = 10000000\n",
    "cv = KFold(n=X_train.shape[0], n_folds= n_folds)\n",
    "X_train_array = X_train.as_matrix()\n",
    "Y_train_array = Y_train.as_matrix()\n",
    "cross_val_scores = 0\n",
    "\n",
    "\n",
    "for train, test in cv:\n",
    "    for alpha in alphas:\n",
    "        for components  in n_components:\n",
    "            pca = PCA(n_components=components)\n",
    "            pca = pca.fit(X_train_array[train])\n",
    "            X_train_new = pca.transform(X_train_array[train])\n",
    "            X_test_new = pca.transform(X_train_array[test])\n",
    "            model = Lasso(alpha = alpha)\n",
    "            model.fit(X_train_new, Y_train_array[train])\n",
    "            test_error = get_root_mean_squared_error(model, X_test_new, Y_train_array[test])\n",
    "            cross_val_scores += test_error\n",
    "            if test_error < least_error:\n",
    "                least_component = component\n",
    "                best_model = model\n",
    "                least_error = test_error\n",
    "                best_pca = pca\n",
    "cross_val_scores /= n_folds\n",
    "            \n",
    "print 'No of components in the best model: %s'%(least_component)\n",
    "print best_model\n",
    "print 'Overall Cross_Validation Score: %s' %(cross_val_scores)\n",
    "print 'Train_error : %s | Test_Error: %s' %(get_root_mean_squared_error(best_model, best_pca.transform(X_train), Y_train), \n",
    "                                            get_root_mean_squared_error(best_model, best_pca.transform(X_test), Y_test))"
   ]
  },
  {
   "cell_type": "markdown",
   "metadata": {},
   "source": [
    "### Decision Tree"
   ]
  },
  {
   "cell_type": "code",
   "execution_count": 24,
   "metadata": {
    "collapsed": false
   },
   "outputs": [
    {
     "name": "stdout",
     "output_type": "stream",
     "text": [
      "DecisionTreeRegressor(criterion='mse', max_depth=20, max_features=None,\n",
      "           max_leaf_nodes=None, min_samples_leaf=1, min_samples_split=200,\n",
      "           min_weight_fraction_leaf=0.0, presort=False, random_state=None,\n",
      "           splitter='best')\n",
      "Train_error : 3.5077742089 | Test_Error: 3.9443202025\n"
     ]
    }
   ],
   "source": [
    "from sklearn.tree import DecisionTreeRegressor\n",
    "\n",
    "depths =[10, 20, 50, 100]\n",
    "min_samples_splits =[50, 100, 200, 1000]\n",
    "least_error =100000000\n",
    "\n",
    "for depth in depths:\n",
    "    for min_samples_split in min_samples_splits:\n",
    "        model = DecisionTreeRegressor (criterion = 'mse', max_depth = depth , min_samples_split=min_samples_split)\n",
    "        model.fit(X_train, Y_train)\n",
    "        test_error = get_root_mean_squared_error(model, X_test, Y_test)\n",
    "        if test_error < least_error:\n",
    "            best_model = model\n",
    "            least_error = test_error\n",
    "            \n",
    "\n",
    "print best_model\n",
    "print 'Train_error : %s | Test_Error: %s' %(get_root_mean_squared_error(best_model, X_train, Y_train), \n",
    "                                            get_root_mean_squared_error(best_model, X_test, Y_test))"
   ]
  },
  {
   "cell_type": "code",
   "execution_count": 26,
   "metadata": {
    "collapsed": false
   },
   "outputs": [
    {
     "name": "stdout",
     "output_type": "stream",
     "text": [
      "DecisionTreeRegressor(criterion='mse', max_depth=10, max_features=None,\n",
      "           max_leaf_nodes=None, min_samples_leaf=1, min_samples_split=200,\n",
      "           min_weight_fraction_leaf=0.0, presort=False, random_state=None,\n",
      "           splitter='best')\n",
      "Overall_CV_Score:70.3052929645\n",
      "Train_error : 3.46488984255 | Test_Error: 4.01759501365\n"
     ]
    }
   ],
   "source": [
    "from sklearn.tree import DecisionTreeRegressor\n",
    "\n",
    "n_folds = 20\n",
    "depths =[10, 20, 50, 100]\n",
    "min_samples_splits =[50, 100, 200, 1000]\n",
    "least_error =100000000\n",
    "cv = KFold(n=X_train.shape[0], n_folds= n_folds)\n",
    "X_train_array = X_train.as_matrix()\n",
    "Y_train_array = Y_train.as_matrix()\n",
    "cross_val_scores = 0\n",
    "\n",
    "\n",
    "for train, test in cv:\n",
    "    for depth in depths:\n",
    "        for min_samples_split in min_samples_splits:\n",
    "            model = DecisionTreeRegressor (criterion = 'mse', max_depth = depth , min_samples_split=min_samples_split)\n",
    "            model.fit(X_train_array[train], Y_train_array[train])\n",
    "            test_error = get_root_mean_squared_error(model, X_train_array[test], Y_train_array[test])\n",
    "            cross_val_scores += test_error\n",
    "            if test_error < least_error:\n",
    "                best_model = model\n",
    "                least_error = test_error\n",
    "cross_val_scores /= n_folds            \n",
    "\n",
    "print best_model\n",
    "print 'Overall_CV_Score:%s' %cross_val_scores\n",
    "print 'Train_error : %s | Test_Error: %s' %(get_root_mean_squared_error(best_model, X_train, Y_train), \n",
    "                                            get_root_mean_squared_error(best_model, X_test, Y_test))"
   ]
  },
  {
   "cell_type": "code",
   "execution_count": 27,
   "metadata": {
    "collapsed": false
   },
   "outputs": [
    {
     "name": "stdout",
     "output_type": "stream",
     "text": [
      "No of components in the best model: 268\n",
      "DecisionTreeRegressor(criterion='mse', max_depth=20, max_features=None,\n",
      "           max_leaf_nodes=None, min_samples_leaf=1, min_samples_split=1000,\n",
      "           min_weight_fraction_leaf=0.0, presort=False, random_state=None,\n",
      "           splitter='best')\n",
      "Train_error : 4.39615326061 | Test_Error: 4.51933083642\n"
     ]
    }
   ],
   "source": [
    "from sklearn.tree import DecisionTreeRegressor\n",
    "from sklearn.decomposition import PCA\n",
    "\n",
    "depths =[10, 20, 50, 100]\n",
    "min_samples_splits =[50, 100, 200, 1000]\n",
    "n_components = [120, 180, 240, len(X_train.columns)]\n",
    "least_error = 10000000\n",
    "\n",
    "\n",
    "for components  in n_components:\n",
    "    for min_sample_split in min_samples_splits:\n",
    "        for depth in depths:\n",
    "            pca = PCA(n_components=components)\n",
    "            pca = pca.fit(X_train)\n",
    "            X_train_new = pca.transform(X_train)\n",
    "            X_test_new = pca.transform(X_test)\n",
    "            model = DecisionTreeRegressor (criterion = 'mse', max_depth = depth , min_samples_split=min_samples_split)\n",
    "            model.fit(X_train_new, Y_train)\n",
    "            test_error = get_root_mean_squared_error(model, X_test_new, Y_test)\n",
    "            if test_error < least_error:\n",
    "                least_component = component\n",
    "                best_model = model\n",
    "                least_error = test_error\n",
    "                best_pca =pca\n",
    "            \n",
    "print 'No of components in the best model: %s'%(least_component)\n",
    "print best_model\n",
    "print 'Train_error : %s | Test_Error: %s' %(get_root_mean_squared_error(best_model, best_pca.transform(X_train), Y_train), \n",
    "                                            get_root_mean_squared_error(best_model, best_pca.transform(X_test), Y_test))"
   ]
  },
  {
   "cell_type": "code",
   "execution_count": null,
   "metadata": {
    "collapsed": true
   },
   "outputs": [],
   "source": []
  }
 ],
 "metadata": {
  "kernelspec": {
   "display_name": "Python 2",
   "language": "python",
   "name": "python2"
  },
  "language_info": {
   "codemirror_mode": {
    "name": "ipython",
    "version": 2
   },
   "file_extension": ".py",
   "mimetype": "text/x-python",
   "name": "python",
   "nbconvert_exporter": "python",
   "pygments_lexer": "ipython2",
   "version": "2.7.6"
  }
 },
 "nbformat": 4,
 "nbformat_minor": 0
}
